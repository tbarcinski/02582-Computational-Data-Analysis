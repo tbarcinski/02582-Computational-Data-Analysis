{
 "cells": [
  {
   "cell_type": "code",
   "execution_count": 384,
   "id": "c7aa5a0d-3db5-477d-a329-54a60890774c",
   "metadata": {},
   "outputs": [],
   "source": [
    "import pandas as pd\n",
    "import numpy as np\n",
    "import matplotlib.pyplot as plt\n",
    "import seaborn as sns\n",
    "sns.set()\n",
    "\n",
    "\n",
    "from sklearn.preprocessing import StandardScaler, OneHotEncoder\n",
    "from sklearn.model_selection import train_test_split\n",
    "from sklearn.metrics import mean_squared_error # call it with squared=False to get RMSE\n",
    "from sklearn.linear_model import LinearRegression, Ridge\n",
    "from sklearn.impute import SimpleImputer\n",
    "from statsmodels.regression.linear_model import OLS"
   ]
  },
  {
   "cell_type": "markdown",
   "id": "f2561a82-de45-4742-af1f-2e8da9174ee2",
   "metadata": {},
   "source": [
    "# Load data"
   ]
  },
  {
   "cell_type": "code",
   "execution_count": 76,
   "id": "9b774c3e-4ac7-40f5-b23e-3a2f87ec33ad",
   "metadata": {},
   "outputs": [
    {
     "name": "stderr",
     "output_type": "stream",
     "text": [
      "/home/annareisz/miniconda3/lib/python3.7/site-packages/pandas/util/_decorators.py:311: ParserWarning: Falling back to the 'python' engine because the 'c' engine does not support regex separators (separators > 1 char and different from '\\s+' are interpreted as regex); you can avoid this warning by specifying engine='python'.\n",
      "  return func(*args, **kwargs)\n"
     ]
    },
    {
     "data": {
      "text/html": [
       "<div>\n",
       "<style scoped>\n",
       "    .dataframe tbody tr th:only-of-type {\n",
       "        vertical-align: middle;\n",
       "    }\n",
       "\n",
       "    .dataframe tbody tr th {\n",
       "        vertical-align: top;\n",
       "    }\n",
       "\n",
       "    .dataframe thead th {\n",
       "        text-align: right;\n",
       "    }\n",
       "</style>\n",
       "<table border=\"1\" class=\"dataframe\">\n",
       "  <thead>\n",
       "    <tr style=\"text-align: right;\">\n",
       "      <th></th>\n",
       "      <th>y</th>\n",
       "      <th>x_1</th>\n",
       "      <th>x_2</th>\n",
       "      <th>x_3</th>\n",
       "      <th>x_4</th>\n",
       "      <th>x_5</th>\n",
       "      <th>x_6</th>\n",
       "      <th>x_7</th>\n",
       "      <th>x_8</th>\n",
       "      <th>x_9</th>\n",
       "      <th>...</th>\n",
       "      <th>x_91</th>\n",
       "      <th>x_92</th>\n",
       "      <th>x_93</th>\n",
       "      <th>x_94</th>\n",
       "      <th>x_95</th>\n",
       "      <th>C_1</th>\n",
       "      <th>C_2</th>\n",
       "      <th>C_3</th>\n",
       "      <th>C_4</th>\n",
       "      <th>C_5</th>\n",
       "    </tr>\n",
       "  </thead>\n",
       "  <tbody>\n",
       "    <tr>\n",
       "      <th>0</th>\n",
       "      <td>-6.158895</td>\n",
       "      <td>-7.518161</td>\n",
       "      <td>5.423677</td>\n",
       "      <td>11.810360</td>\n",
       "      <td>-19.076321</td>\n",
       "      <td>-7.018273</td>\n",
       "      <td>23.841339</td>\n",
       "      <td>1.050206</td>\n",
       "      <td>3.132453</td>\n",
       "      <td>4.403462</td>\n",
       "      <td>...</td>\n",
       "      <td>3.692902</td>\n",
       "      <td>12.826477</td>\n",
       "      <td>-6.889479</td>\n",
       "      <td>3.443535</td>\n",
       "      <td>5.400120</td>\n",
       "      <td>I</td>\n",
       "      <td>NaN</td>\n",
       "      <td>H</td>\n",
       "      <td>J</td>\n",
       "      <td>K</td>\n",
       "    </tr>\n",
       "    <tr>\n",
       "      <th>1</th>\n",
       "      <td>-22.200026</td>\n",
       "      <td>-6.370690</td>\n",
       "      <td>7.792366</td>\n",
       "      <td>11.858663</td>\n",
       "      <td>NaN</td>\n",
       "      <td>-15.420530</td>\n",
       "      <td>21.683970</td>\n",
       "      <td>1.057192</td>\n",
       "      <td>2.559764</td>\n",
       "      <td>NaN</td>\n",
       "      <td>...</td>\n",
       "      <td>7.270303</td>\n",
       "      <td>10.039281</td>\n",
       "      <td>-7.678936</td>\n",
       "      <td>-0.189822</td>\n",
       "      <td>0.717526</td>\n",
       "      <td>H</td>\n",
       "      <td>NaN</td>\n",
       "      <td>H</td>\n",
       "      <td>I</td>\n",
       "      <td>I</td>\n",
       "    </tr>\n",
       "    <tr>\n",
       "      <th>2</th>\n",
       "      <td>-19.357551</td>\n",
       "      <td>-4.229569</td>\n",
       "      <td>2.756115</td>\n",
       "      <td>12.446836</td>\n",
       "      <td>-17.567113</td>\n",
       "      <td>-12.984783</td>\n",
       "      <td>NaN</td>\n",
       "      <td>2.484515</td>\n",
       "      <td>NaN</td>\n",
       "      <td>1.852533</td>\n",
       "      <td>...</td>\n",
       "      <td>5.889789</td>\n",
       "      <td>14.186614</td>\n",
       "      <td>-9.527944</td>\n",
       "      <td>0.400832</td>\n",
       "      <td>-2.458897</td>\n",
       "      <td>NaN</td>\n",
       "      <td>I</td>\n",
       "      <td>K</td>\n",
       "      <td>J</td>\n",
       "      <td>G</td>\n",
       "    </tr>\n",
       "    <tr>\n",
       "      <th>3</th>\n",
       "      <td>28.763803</td>\n",
       "      <td>-10.487072</td>\n",
       "      <td>1.460685</td>\n",
       "      <td>9.307533</td>\n",
       "      <td>-21.306282</td>\n",
       "      <td>-19.824912</td>\n",
       "      <td>NaN</td>\n",
       "      <td>-0.442587</td>\n",
       "      <td>0.743039</td>\n",
       "      <td>-0.376102</td>\n",
       "      <td>...</td>\n",
       "      <td>7.024105</td>\n",
       "      <td>8.871258</td>\n",
       "      <td>-7.514400</td>\n",
       "      <td>-3.448892</td>\n",
       "      <td>-2.612379</td>\n",
       "      <td>K</td>\n",
       "      <td>H</td>\n",
       "      <td>I</td>\n",
       "      <td>I</td>\n",
       "      <td>NaN</td>\n",
       "    </tr>\n",
       "    <tr>\n",
       "      <th>4</th>\n",
       "      <td>43.779898</td>\n",
       "      <td>-13.066517</td>\n",
       "      <td>4.812794</td>\n",
       "      <td>10.641948</td>\n",
       "      <td>-17.691825</td>\n",
       "      <td>NaN</td>\n",
       "      <td>19.057921</td>\n",
       "      <td>1.900578</td>\n",
       "      <td>6.133609</td>\n",
       "      <td>-0.771247</td>\n",
       "      <td>...</td>\n",
       "      <td>8.186575</td>\n",
       "      <td>10.532577</td>\n",
       "      <td>-7.509476</td>\n",
       "      <td>NaN</td>\n",
       "      <td>0.754905</td>\n",
       "      <td>H</td>\n",
       "      <td>H</td>\n",
       "      <td>K</td>\n",
       "      <td>J</td>\n",
       "      <td>J</td>\n",
       "    </tr>\n",
       "  </tbody>\n",
       "</table>\n",
       "<p>5 rows × 101 columns</p>\n",
       "</div>"
      ],
      "text/plain": [
       "           y        x_1       x_2        x_3        x_4        x_5        x_6  \\\n",
       "0  -6.158895  -7.518161  5.423677  11.810360 -19.076321  -7.018273  23.841339   \n",
       "1 -22.200026  -6.370690  7.792366  11.858663        NaN -15.420530  21.683970   \n",
       "2 -19.357551  -4.229569  2.756115  12.446836 -17.567113 -12.984783        NaN   \n",
       "3  28.763803 -10.487072  1.460685   9.307533 -21.306282 -19.824912        NaN   \n",
       "4  43.779898 -13.066517  4.812794  10.641948 -17.691825        NaN  19.057921   \n",
       "\n",
       "        x_7       x_8       x_9  ...      x_91       x_92      x_93      x_94  \\\n",
       "0  1.050206  3.132453  4.403462  ...  3.692902  12.826477 -6.889479  3.443535   \n",
       "1  1.057192  2.559764       NaN  ...  7.270303  10.039281 -7.678936 -0.189822   \n",
       "2  2.484515       NaN  1.852533  ...  5.889789  14.186614 -9.527944  0.400832   \n",
       "3 -0.442587  0.743039 -0.376102  ...  7.024105   8.871258 -7.514400 -3.448892   \n",
       "4  1.900578  6.133609 -0.771247  ...  8.186575  10.532577 -7.509476       NaN   \n",
       "\n",
       "       x_95  C_1  C_2  C_3  C_4  C_5  \n",
       "0  5.400120    I  NaN    H    J    K  \n",
       "1  0.717526    H  NaN    H    I    I  \n",
       "2 -2.458897  NaN    I    K    J    G  \n",
       "3 -2.612379    K    H    I    I  NaN  \n",
       "4  0.754905    H    H    K    J    J  \n",
       "\n",
       "[5 rows x 101 columns]"
      ]
     },
     "execution_count": 76,
     "metadata": {},
     "output_type": "execute_result"
    }
   ],
   "source": [
    "df = pd.read_csv(\"case1Data.txt\", sep=', ')\n",
    "df.columns = [c.replace(' ', '') for c in df.columns]\n",
    "\n",
    "\n",
    "CATEGORICAL = [c for c in df.columns if c.startswith(\"C\")]\n",
    "CONTINUOUS  = [x for x in df.columns if x.startswith(\"x\")]\n",
    "\n",
    "# If it's understood as categorical pd.get_dummies work sensibily TOASK: should we use all overall categories or only the one in a feature\n",
    "df[CATEGORICAL].astype(pd.CategoricalDtype(categories=set(df_new[CATEGORICAL].stack())))\n",
    "\n",
    "df_new = pd.read_csv(\"case1Data_Xnew.txt\", sep=', ') # for competition, without y\n",
    "df_new.columns = [c.replace(' ', '') for c in df_new.columns]\n",
    "\n",
    "df_new[CATEGORICAL].astype(pd.CategoricalDtype(categories=set(df_new[CATEGORICAL].stack())))\n",
    "\n",
    "df.head()"
   ]
  },
  {
   "cell_type": "markdown",
   "id": "1bd05822-0133-4cda-b932-d70c9ce07b82",
   "metadata": {},
   "source": [
    "# Preprocess"
   ]
  },
  {
   "cell_type": "code",
   "execution_count": 342,
   "id": "51b09fbb-cf4d-466b-bb57-0e8c015f7cd5",
   "metadata": {},
   "outputs": [
    {
     "name": "stdout",
     "output_type": "stream",
     "text": [
      "done\n"
     ]
    }
   ],
   "source": [
    "def replace_missing_continouous(X: np.array):\n",
    "    imputer = SimpleImputer(strategy='mean')\n",
    "    X = imputer.fit_transform(X)\n",
    "    return X\n",
    "    \n",
    "def replace_missing_categorical(C: np.array) -> np.array:\n",
    "    imputer = SimpleImputer(strategy='most_frequent')\n",
    "    C = imputer.fit_transform(C)\n",
    "    return C\n",
    "\n",
    "def fit_encoder(C, C_new, categories='auto'):\n",
    "    #TOASK: should we use all overall categories or only the one in a feature. \n",
    "    # 'auto' infers categories ie. c_2 would only have two categories\n",
    "    \n",
    "    combined = np.concatenate((C, C_new), axis=0)\n",
    "    combined = replace_missing_categorical(combined)\n",
    "    \n",
    "    # sparse=False to avoid sparse matrix because todense becomes \"matrix\" wich is deprecated with some sklearn models\n",
    "    enc = OneHotEncoder(categories=categories, sparse=False) \n",
    "    enc.fit(C)\n",
    "    return enc\n",
    "\n",
    "def fit_standardizer_X(X, X_new) -> StandardScaler:\n",
    "    # we should fit the standardizer before replacing missing\n",
    "    # so the bias from that doesn't affect normalization\n",
    "    \n",
    "    combined = np.concatenate((X, X_new), axis=0)\n",
    "    \n",
    "    standardizer = StandardScaler()\n",
    "    standardizer.fit(combined)\n",
    "    \n",
    "    return standardizer\n",
    "\n",
    "def fit_standardizer_y(y):\n",
    "    standardizer = StandardScaler()\n",
    "    standardizer.fit(y[:, np.newaxis])\n",
    "    return standardizer\n",
    "\n",
    "def preprocess_y(df, standardizer):\n",
    "    y_standard = standardizer.transform(df[['y']].values)\n",
    "    return y_standard.flatten()\n",
    "\n",
    "def preprocess_X(df, standardizer, encoder):\n",
    "    X = df[CONTINUOUS].values\n",
    "    C = df[CATEGORICAL].values\n",
    "    \n",
    "    X_nonan = replace_missing_continouous(X)\n",
    "    X_standard = standardizer.transform(X_nonan)\n",
    "\n",
    "    C_nonan = replace_missing_categorical(C)\n",
    "    C_onehot = encoder.transform(C_nonan) # TOASK: any advantage in standardizing this?\n",
    "\n",
    "    combined = np.concatenate((X_standard, C_onehot), axis=1)\n",
    "\n",
    "    return combined\n",
    "\n",
    "# example use - in practice we must preprocess within the fold!\n",
    "standardizer = fit_standardizer(df[CONTINUOUS].values, df_new[CONTINUOUS].values)\n",
    "encoder = fit_encoder(df[CATEGORICAL].values, df_new[CATEGORICAL].values)\n",
    "X_train = preprocess_X(df, standardizer, encoder)\n",
    "\n",
    "standardizer = fit_standardizer_y(df['y'].values)\n",
    "y_train = preprocess_y(df, standardizer)\n",
    "print('done')"
   ]
  },
  {
   "cell_type": "markdown",
   "id": "13eb34ac-2b00-408f-aaa0-0b4fc99cf34f",
   "metadata": {},
   "source": [
    "# Model selection"
   ]
  },
  {
   "cell_type": "code",
   "execution_count": 358,
   "id": "1d5c3409-9243-493f-a9f8-d1129c581f23",
   "metadata": {},
   "outputs": [],
   "source": [
    "N = len(df)\n",
    "K = 5"
   ]
  },
  {
   "cell_type": "code",
   "execution_count": 467,
   "id": "0289e110-c07f-4648-ad5d-535cebe412a2",
   "metadata": {},
   "outputs": [],
   "source": [
    "num_ridge_lambdas = 100\n",
    "ridge_lambdas = np.logspace(-4, 4, num_ridge_lambdas)\n",
    "\n",
    "\n",
    "RMSE = {'OLS'  : np.zeros(K),\n",
    "        'Ridge': np.zeros((K, num_ridge_lambdas)),\n",
    "        'KNN': None # Anna\n",
    "        'Weighted KNN': None # Anna\n",
    "        'Lasso': None # Tymek,\n",
    "        'Elastic Net': None # Tymek\n",
    "       }\n",
    "\n",
    "fold_idxs = np.arange(0, N)%K\n",
    "fold_idxs = np.random.permutation(fold_idxs) #shuffle\n",
    "\n",
    "for i in range(K):\n",
    "    # split\n",
    "    df_train = df.loc[fold_idxs !=i]\n",
    "    df_test = df.loc[fold_idxs == i]\n",
    "    \n",
    "    # prep\n",
    "    standardizer_X = fit_standardizer_X(df_train[CONTINUOUS].values, df_new[CONTINUOUS].values)\n",
    "    encoder        = fit_encoder(df[CATEGORICAL].values, df_new[CATEGORICAL].values)\n",
    "    \n",
    "    X_train = preprocess_X(df_train, standardizer_X, encoder)\n",
    "    X_test  = preprocess_X(df_test, standardizer_X, encoder)\n",
    "    \n",
    "    standardizer_y = fit_standardizer_y(df_train['y'].values)\n",
    "    \n",
    "    y_train = preprocess_y(df_train, standardizer_y)\n",
    "    y_test  = preprocess_y(df_test, standardizer_y)\n",
    "    \n",
    "    # model \n",
    "    ols = LinearRegression(fit_intercept=False).fit(X_train, y_train)\n",
    "    y_pred = ols.predict(X_test)\n",
    "    rmse = mean_squared_error(y_test, y_pred, squared=False)\n",
    "    RMSE['OLS'][i] = rmse\n",
    "    \n",
    "    for j in range(num_ridge_lambdas):\n",
    "        ridge = Ridge(alpha=ridge_lambdas[j], fit_intercept=False).fit(X_train, y_train)\n",
    "        y_pred = ridge.predict(X_test)\n",
    "    \n",
    "        RMSE['Ridge'][i, j] = mean_squared_error(y_test, y_pred, squared=False)\n",
    "    \n",
    "    \n",
    "    \n",
    "    "
   ]
  },
  {
   "cell_type": "code",
   "execution_count": 468,
   "id": "9e0c3ebd-a7f0-49ba-8481-021f5c4d9fc0",
   "metadata": {},
   "outputs": [
    {
     "data": {
      "text/plain": [
       "array([0.5590387 , 0.78414618, 0.6075048 , 0.62426304, 0.85872893])"
      ]
     },
     "execution_count": 468,
     "metadata": {},
     "output_type": "execute_result"
    }
   ],
   "source": [
    "RMSE['Ridge'][:, best_lambda_ridge_idx]"
   ]
  },
  {
   "cell_type": "code",
   "execution_count": 469,
   "id": "34ec07f1-5897-43ce-ba3c-b34482fe9a46",
   "metadata": {},
   "outputs": [
    {
     "data": {
      "image/png": "[encoded data removed]",
      "text/plain": [
       "<Figure size 432x288 with 1 Axes>"
      ]
     },
     "metadata": {},
     "output_type": "display_data"
    }
   ],
   "source": [
    "best_lambda_ridge_idx = RMSE['Ridge'].mean(axis=0).argmin()\n",
    "plt.bar(np.arange(K)-0.2, RMSE['OLS'], label='OLS', width=0.4)\n",
    "plt.bar(np.arange(K)+0.2, RMSE['Ridge'][:, 42], label=f'Ridge (lambda = {ridge_lambdas[best_lambda_ridge_idx].round(2)})', width=0.4)\n",
    "plt.xlabel(\"Folds\")\n",
    "plt.xticks(np.arange(K))\n",
    "plt.ylabel(\"RMSE\")\n",
    "plt.legend(loc='lower right')\n",
    "plt.show()"
   ]
  },
  {
   "cell_type": "code",
   "execution_count": 485,
   "id": "5272458b-c79c-49df-8771-873f005800d3",
   "metadata": {},
   "outputs": [
    {
     "data": {
      "image/png": "[encoded data removed]",
      "text/plain": [
       "<Figure size 432x288 with 1 Axes>"
      ]
     },
     "metadata": {},
     "output_type": "display_data"
    }
   ],
   "source": [
    "plt.figure()\n",
    "plt.title(\"Each fold of Ridge\")\n",
    "plt.semilogx(ridge_lambdas, RMSE['Ridge'].T, label=np.arange(K))\n",
    "plt.ylabel(\"RMSE\")\n",
    "plt.xlabel(\"Lambda\")\n",
    "plt.legend()\n",
    "plt.show()"
   ]
  },
  {
   "cell_type": "markdown",
   "id": "29a1ca05-20f4-4b6b-bea9-96a8d5e7b4c2",
   "metadata": {},
   "source": [
    "### Fuck statmodels. It depends on old pandas"
   ]
  },
  {
   "cell_type": "code",
   "execution_count": 383,
   "id": "134c9f7d-9214-4140-8740-595345b0a26c",
   "metadata": {},
   "outputs": [
    {
     "name": "stdout",
     "output_type": "stream",
     "text": [
      "-5013.827741613151\n",
      "-4946.2176531445\n"
     ]
    },
    {
     "ename": "AttributeError",
     "evalue": "module 'pandas' has no attribute 'Panel'",
     "output_type": "error",
     "traceback": [
      "\u001b[0;31m---------------------------------------------------------------------------\u001b[0m",
      "\u001b[0;31mAttributeError\u001b[0m                            Traceback (most recent call last)",
      "\u001b[0;32m<ipython-input-383-09bdb66943ef>\u001b[0m in \u001b[0;36m<module>\u001b[0;34m\u001b[0m\n\u001b[1;32m      8\u001b[0m \u001b[0mprint\u001b[0m\u001b[0;34m(\u001b[0m\u001b[0mregr\u001b[0m\u001b[0;34m.\u001b[0m\u001b[0maic\u001b[0m\u001b[0;34m)\u001b[0m\u001b[0;34m\u001b[0m\u001b[0;34m\u001b[0m\u001b[0m\n\u001b[1;32m      9\u001b[0m \u001b[0;34m\u001b[0m\u001b[0m\n\u001b[0;32m---> 10\u001b[0;31m \u001b[0mregr\u001b[0m\u001b[0;34m.\u001b[0m\u001b[0mpredict\u001b[0m\u001b[0;34m(\u001b[0m\u001b[0my_test\u001b[0m\u001b[0;34m)\u001b[0m\u001b[0;34m\u001b[0m\u001b[0;34m\u001b[0m\u001b[0m\n\u001b[0m",
      "\u001b[0;32m~/miniconda3/lib/python3.7/site-packages/statsmodels/base/model.py\u001b[0m in \u001b[0;36mpredict\u001b[0;34m(self, exog, transform, *args, **kwargs)\u001b[0m\n\u001b[1;32m    816\u001b[0m         \u001b[0;32mimport\u001b[0m \u001b[0mpandas\u001b[0m \u001b[0;32mas\u001b[0m \u001b[0mpd\u001b[0m\u001b[0;34m\u001b[0m\u001b[0;34m\u001b[0m\u001b[0m\n\u001b[1;32m    817\u001b[0m \u001b[0;34m\u001b[0m\u001b[0m\n\u001b[0;32m--> 818\u001b[0;31m         \u001b[0mis_pandas\u001b[0m \u001b[0;34m=\u001b[0m \u001b[0m_is_using_pandas\u001b[0m\u001b[0;34m(\u001b[0m\u001b[0mexog\u001b[0m\u001b[0;34m,\u001b[0m \u001b[0;32mNone\u001b[0m\u001b[0;34m)\u001b[0m\u001b[0;34m\u001b[0m\u001b[0;34m\u001b[0m\u001b[0m\n\u001b[0m\u001b[1;32m    819\u001b[0m \u001b[0;34m\u001b[0m\u001b[0m\n\u001b[1;32m    820\u001b[0m         \u001b[0mexog_index\u001b[0m \u001b[0;34m=\u001b[0m \u001b[0mexog\u001b[0m\u001b[0;34m.\u001b[0m\u001b[0mindex\u001b[0m \u001b[0;32mif\u001b[0m \u001b[0mis_pandas\u001b[0m \u001b[0;32melse\u001b[0m \u001b[0;32mNone\u001b[0m\u001b[0;34m\u001b[0m\u001b[0;34m\u001b[0m\u001b[0m\n",
      "\u001b[0;32m~/miniconda3/lib/python3.7/site-packages/statsmodels/tools/data.py\u001b[0m in \u001b[0;36m_is_using_pandas\u001b[0;34m(endog, exog)\u001b[0m\n\u001b[1;32m     98\u001b[0m \u001b[0;34m\u001b[0m\u001b[0m\n\u001b[1;32m     99\u001b[0m \u001b[0;32mdef\u001b[0m \u001b[0m_is_using_pandas\u001b[0m\u001b[0;34m(\u001b[0m\u001b[0mendog\u001b[0m\u001b[0;34m,\u001b[0m \u001b[0mexog\u001b[0m\u001b[0;34m)\u001b[0m\u001b[0;34m:\u001b[0m\u001b[0;34m\u001b[0m\u001b[0;34m\u001b[0m\u001b[0m\n\u001b[0;32m--> 100\u001b[0;31m     \u001b[0;32mfrom\u001b[0m \u001b[0mstatsmodels\u001b[0m\u001b[0;34m.\u001b[0m\u001b[0mcompat\u001b[0m\u001b[0;34m.\u001b[0m\u001b[0mpandas\u001b[0m \u001b[0;32mimport\u001b[0m \u001b[0mdata_klasses\u001b[0m \u001b[0;32mas\u001b[0m \u001b[0mklasses\u001b[0m\u001b[0;34m\u001b[0m\u001b[0;34m\u001b[0m\u001b[0m\n\u001b[0m\u001b[1;32m    101\u001b[0m     \u001b[0;32mreturn\u001b[0m \u001b[0;34m(\u001b[0m\u001b[0misinstance\u001b[0m\u001b[0;34m(\u001b[0m\u001b[0mendog\u001b[0m\u001b[0;34m,\u001b[0m \u001b[0mklasses\u001b[0m\u001b[0;34m)\u001b[0m \u001b[0;32mor\u001b[0m \u001b[0misinstance\u001b[0m\u001b[0;34m(\u001b[0m\u001b[0mexog\u001b[0m\u001b[0;34m,\u001b[0m \u001b[0mklasses\u001b[0m\u001b[0;34m)\u001b[0m\u001b[0;34m)\u001b[0m\u001b[0;34m\u001b[0m\u001b[0;34m\u001b[0m\u001b[0m\n\u001b[1;32m    102\u001b[0m \u001b[0;34m\u001b[0m\u001b[0m\n",
      "\u001b[0;32m~/miniconda3/lib/python3.7/site-packages/statsmodels/compat/pandas.py\u001b[0m in \u001b[0;36m<module>\u001b[0;34m\u001b[0m\n\u001b[1;32m     47\u001b[0m \u001b[0;32mif\u001b[0m \u001b[0mversion\u001b[0m \u001b[0;34m>=\u001b[0m \u001b[0;34m'0.20'\u001b[0m\u001b[0;34m:\u001b[0m\u001b[0;34m\u001b[0m\u001b[0;34m\u001b[0m\u001b[0m\n\u001b[1;32m     48\u001b[0m     \u001b[0;32mfrom\u001b[0m \u001b[0mpandas\u001b[0m\u001b[0;34m.\u001b[0m\u001b[0mtseries\u001b[0m \u001b[0;32mimport\u001b[0m \u001b[0mfrequencies\u001b[0m\u001b[0;34m\u001b[0m\u001b[0;34m\u001b[0m\u001b[0m\n\u001b[0;32m---> 49\u001b[0;31m     \u001b[0mdata_klasses\u001b[0m \u001b[0;34m=\u001b[0m \u001b[0;34m(\u001b[0m\u001b[0mpandas\u001b[0m\u001b[0;34m.\u001b[0m\u001b[0mSeries\u001b[0m\u001b[0;34m,\u001b[0m \u001b[0mpandas\u001b[0m\u001b[0;34m.\u001b[0m\u001b[0mDataFrame\u001b[0m\u001b[0;34m,\u001b[0m \u001b[0mpandas\u001b[0m\u001b[0;34m.\u001b[0m\u001b[0mPanel\u001b[0m\u001b[0;34m)\u001b[0m\u001b[0;34m\u001b[0m\u001b[0;34m\u001b[0m\u001b[0m\n\u001b[0m\u001b[1;32m     50\u001b[0m \u001b[0;32melse\u001b[0m\u001b[0;34m:\u001b[0m\u001b[0;34m\u001b[0m\u001b[0;34m\u001b[0m\u001b[0m\n\u001b[1;32m     51\u001b[0m     \u001b[0;32mtry\u001b[0m\u001b[0;34m:\u001b[0m\u001b[0;34m\u001b[0m\u001b[0;34m\u001b[0m\u001b[0m\n",
      "\u001b[0;32m~/miniconda3/lib/python3.7/site-packages/pandas/__init__.py\u001b[0m in \u001b[0;36m__getattr__\u001b[0;34m(name)\u001b[0m\n\u001b[1;32m    242\u001b[0m         \u001b[0;32mreturn\u001b[0m \u001b[0m_SparseArray\u001b[0m\u001b[0;34m\u001b[0m\u001b[0;34m\u001b[0m\u001b[0m\n\u001b[1;32m    243\u001b[0m \u001b[0;34m\u001b[0m\u001b[0m\n\u001b[0;32m--> 244\u001b[0;31m     \u001b[0;32mraise\u001b[0m \u001b[0mAttributeError\u001b[0m\u001b[0;34m(\u001b[0m\u001b[0;34mf\"module 'pandas' has no attribute '{name}'\"\u001b[0m\u001b[0;34m)\u001b[0m\u001b[0;34m\u001b[0m\u001b[0;34m\u001b[0m\u001b[0m\n\u001b[0m\u001b[1;32m    245\u001b[0m \u001b[0;34m\u001b[0m\u001b[0m\n\u001b[1;32m    246\u001b[0m \u001b[0;34m\u001b[0m\u001b[0m\n",
      "\u001b[0;31mAttributeError\u001b[0m: module 'pandas' has no attribute 'Panel'"
     ]
    }
   ],
   "source": [
    "def add_intercept(X):\n",
    "    return np.concatenate((np.ones((len(X), 1)), X), axis=1)\n",
    "\n",
    "regr = OLS(y_train.tolist(), add_intercept(X_train)).fit()\n",
    "print(regr.aic)\n",
    "\n",
    "regr = OLS(y_train.tolist(), X_train).fit()\n",
    "print(regr.aic)\n",
    "\n",
    "regr.predict(y_test)"
   ]
  },
  {
   "cell_type": "code",
   "execution_count": null,
   "id": "31f53a26-e108-4f89-9218-20517edb0b15",
   "metadata": {},
   "outputs": [],
   "source": []
  }
 ],
 "metadata": {
  "kernelspec": {
   "display_name": "Python 3",
   "language": "python",
   "name": "python3"
  },
  "language_info": {
   "codemirror_mode": {
    "name": "ipython",
    "version": 3
   },
   "file_extension": ".py",
   "mimetype": "text/x-python",
   "name": "python",
   "nbconvert_exporter": "python",
   "pygments_lexer": "ipython3",
   "version": "3.7.11"
  }
 },
 "nbformat": 4,
 "nbformat_minor": 5
}
