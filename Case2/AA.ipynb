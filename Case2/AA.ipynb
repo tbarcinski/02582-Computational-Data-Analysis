{
 "cells": [
  {
   "cell_type": "code",
   "execution_count": 30,
   "metadata": {},
   "outputs": [],
   "source": [
    "import pandas as pd\n",
    "import seaborn as sns\n",
    "sns.set()\n",
    "import numpy as np\n",
    "import matplotlib.pyplot as plt\n",
    "import py_pcha"
   ]
  },
  {
   "attachments": {},
   "cell_type": "markdown",
   "metadata": {},
   "source": [
    "# Get data"
   ]
  },
  {
   "cell_type": "code",
   "execution_count": 5,
   "metadata": {},
   "outputs": [],
   "source": [
    "def get_basic_features(path):\n",
    "    features, feature_names = [], []\n",
    "    for stat in [\"BVP\", \"HR\", \"EDA\", \"TEMP\"]:\n",
    "        signal = pd.read_csv(f\"{path}/{stat}.csv\")[stat]\n",
    "        features += [signal.min(), signal.max(), signal.mean(), signal.std()]\n",
    "        feature_names += [f\"{stat}_{f}\" for f in [\"min\", \"max\", \"mean\", \"std\"]]\n",
    "    return feature_names, features\n",
    "\n",
    "metadata = pd.read_csv(\"metadata.csv\")\n",
    "basic_ds = []\n",
    "for path in metadata['Path']:\n",
    "    feature_names, features = get_basic_features(path)\n",
    "    basic_ds.append(features)\n",
    "    \n",
    "basic_ds = pd.DataFrame(basic_ds, columns = feature_names)"
   ]
  },
  {
   "attachments": {},
   "cell_type": "markdown",
   "metadata": {},
   "source": [
    "# Archetypal Analysis"
   ]
  },
  {
   "cell_type": "code",
   "execution_count": 29,
   "metadata": {},
   "outputs": [
    {
     "name": "stdout",
     "output_type": "stream",
     "text": [
      "Variance explained: 0.9949744595485853\n"
     ]
    }
   ],
   "source": [
    "X = basic_ds.copy()\n",
    "n_components = 3\n",
    "\n",
    "# Does not require that you center data\n",
    "XC, S, C, SSE, varexpl = py_pcha.PCHA(np.asarray(X.T), noc=n_components, delta=0.1)\n",
    "XC = np.asarray(XC)\n",
    "S = np.asarray(S)\n",
    "C = np.asarray(C)\n",
    "\n",
    "'''\n",
    "    Output\n",
    "    ------\n",
    "    XC : numpy.2darray\n",
    "        I x noc feature matrix (i.e. XC=X[:,I]*C forming the archetypes)\n",
    "\n",
    "    S : numpy.2darray\n",
    "        noc X n matrix, S>=0 |S_j|_1=1\n",
    "\n",
    "    C : numpy.2darray\n",
    "        x x noc matrix, C>=0 |c_j|_1=1\n",
    "\n",
    "    SSE : float\n",
    "        Sum of Squared Errors\n",
    "'''\n",
    "\n",
    "X_hat = X.T @ C @ S\n",
    "L = 0.5*np.linalg.norm(X.T-X_hat)**2\n",
    "components = XC.T\n",
    "\n",
    "SST = np.sum(np.sum(Xtrain**2))\n",
    "print(f\"Variance explained: {1-2*L/SST}\")"
   ]
  }
 ],
 "metadata": {
  "kernelspec": {
   "display_name": "Python 3",
   "language": "python",
   "name": "python3"
  },
  "language_info": {
   "codemirror_mode": {
    "name": "ipython",
    "version": 3
   },
   "file_extension": ".py",
   "mimetype": "text/x-python",
   "name": "python",
   "nbconvert_exporter": "python",
   "pygments_lexer": "ipython3",
   "version": "3.8.9"
  },
  "orig_nbformat": 4,
  "vscode": {
   "interpreter": {
    "hash": "31f2aee4e71d21fbe5cf8b01ff0e069b9275f58929596ceb00d14d90e3e16cd6"
   }
  }
 },
 "nbformat": 4,
 "nbformat_minor": 2
}
