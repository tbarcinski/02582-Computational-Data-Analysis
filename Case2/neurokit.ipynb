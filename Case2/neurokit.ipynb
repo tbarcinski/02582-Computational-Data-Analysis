{
 "cells": [
  {
   "cell_type": "code",
   "execution_count": 4,
   "metadata": {},
   "outputs": [],
   "source": [
    "import neurokit2 as nk\n",
    "import pandas as pd\n",
    "import numpy as np\n",
    "import seaborn as sns\n",
    "import os"
   ]
  },
  {
   "cell_type": "code",
   "execution_count": 23,
   "metadata": {},
   "outputs": [],
   "source": [
    "# Collect EDA measurements in the epoch format - each epoch corresponds to a phase/event\n",
    "phase_list = [\"phase1\", \"phase2\", \"phase3\"]\n",
    "stat_file = \"EDA.csv\"\n",
    "\n",
    "sampling_rate = 100\n",
    "\n",
    "# Create an empty directory to store your files (events)\n",
    "epochs = {}\n",
    "\n",
    "# Loop through BVP file in each phase\n",
    "for i, phase in enumerate(phase_list):\n",
    "    # Read the file\n",
    "    data = pd.read_csv(\"dataset/D1_1/ID_1/round_1/\" + phase + \"/\" + stat_file).drop(columns = [\"Unnamed: 0\"])\n",
    "    # Process data\n",
    "    data, info = nk.eda_process(data[\"EDA\"], sampling_rate=100)\n",
    "    # Add a Label column (e.g Label 1 for epoch 1)\n",
    "    data[\"Label\"] = np.full(len(data), str(i + 1))\n",
    "    # Set index of data to time in seconds\n",
    "    index = data.index / sampling_rate\n",
    "    data = data.set_index(pd.Series(index))\n",
    "    # Append the file into the dictionary\n",
    "    epochs[str(i + 1)] = data\n"
   ]
  },
  {
   "cell_type": "code",
   "execution_count": 25,
   "metadata": {},
   "outputs": [
    {
     "data": {
      "text/html": [
       "<div>\n",
       "<style scoped>\n",
       "    .dataframe tbody tr th:only-of-type {\n",
       "        vertical-align: middle;\n",
       "    }\n",
       "\n",
       "    .dataframe tbody tr th {\n",
       "        vertical-align: top;\n",
       "    }\n",
       "\n",
       "    .dataframe thead th {\n",
       "        text-align: right;\n",
       "    }\n",
       "</style>\n",
       "<table border=\"1\" class=\"dataframe\">\n",
       "  <thead>\n",
       "    <tr style=\"text-align: right;\">\n",
       "      <th></th>\n",
       "      <th>Label</th>\n",
       "      <th>SCR_Peaks_N</th>\n",
       "      <th>SCR_Peaks_Amplitude_Mean</th>\n",
       "      <th>EDA_Tonic_SD</th>\n",
       "      <th>EDA_Sympathetic</th>\n",
       "      <th>EDA_SympatheticN</th>\n",
       "      <th>EDA_Autocorrelation</th>\n",
       "    </tr>\n",
       "  </thead>\n",
       "  <tbody>\n",
       "    <tr>\n",
       "      <th>1</th>\n",
       "      <td>1</td>\n",
       "      <td>8</td>\n",
       "      <td>0.000031</td>\n",
       "      <td>0.028898</td>\n",
       "      <td>NaN</td>\n",
       "      <td>NaN</td>\n",
       "      <td>NaN</td>\n",
       "    </tr>\n",
       "    <tr>\n",
       "      <th>2</th>\n",
       "      <td>2</td>\n",
       "      <td>12</td>\n",
       "      <td>0.000097</td>\n",
       "      <td>0.006143</td>\n",
       "      <td>NaN</td>\n",
       "      <td>NaN</td>\n",
       "      <td>NaN</td>\n",
       "    </tr>\n",
       "    <tr>\n",
       "      <th>3</th>\n",
       "      <td>3</td>\n",
       "      <td>7</td>\n",
       "      <td>0.000100</td>\n",
       "      <td>0.011477</td>\n",
       "      <td>NaN</td>\n",
       "      <td>NaN</td>\n",
       "      <td>NaN</td>\n",
       "    </tr>\n",
       "  </tbody>\n",
       "</table>\n",
       "</div>"
      ],
      "text/plain": [
       "  Label  SCR_Peaks_N  SCR_Peaks_Amplitude_Mean  EDA_Tonic_SD  EDA_Sympathetic  \\\n",
       "1     1            8                  0.000031      0.028898              NaN   \n",
       "2     2           12                  0.000097      0.006143              NaN   \n",
       "3     3            7                  0.000100      0.011477              NaN   \n",
       "\n",
       "   EDA_SympatheticN  EDA_Autocorrelation  \n",
       "1               NaN                  NaN  \n",
       "2               NaN                  NaN  \n",
       "3               NaN                  NaN  "
      ]
     },
     "execution_count": 25,
     "metadata": {},
     "output_type": "execute_result"
    }
   ],
   "source": [
    "# Analyze epochs\n",
    "analyze_epochs = nk.eda_analyze(epochs, sampling_rate=100)\n",
    "#nk.bio_analyze(epochs, sampling_rate=100)\n",
    "analyze_epochs"
   ]
  },
  {
   "cell_type": "code",
   "execution_count": 27,
   "metadata": {},
   "outputs": [
    {
     "data": {
      "text/html": [
       "<div>\n",
       "<style scoped>\n",
       "    .dataframe tbody tr th:only-of-type {\n",
       "        vertical-align: middle;\n",
       "    }\n",
       "\n",
       "    .dataframe tbody tr th {\n",
       "        vertical-align: top;\n",
       "    }\n",
       "\n",
       "    .dataframe thead th {\n",
       "        text-align: right;\n",
       "    }\n",
       "</style>\n",
       "<table border=\"1\" class=\"dataframe\">\n",
       "  <thead>\n",
       "    <tr style=\"text-align: right;\">\n",
       "      <th></th>\n",
       "      <th>Label</th>\n",
       "      <th>SCR_Peaks_N</th>\n",
       "      <th>SCR_Peaks_Amplitude_Mean</th>\n",
       "      <th>EDA_Tonic_SD</th>\n",
       "      <th>EDA_Sympathetic</th>\n",
       "      <th>EDA_SympatheticN</th>\n",
       "      <th>EDA_Autocorrelation</th>\n",
       "    </tr>\n",
       "  </thead>\n",
       "  <tbody>\n",
       "    <tr>\n",
       "      <th>1</th>\n",
       "      <td>1</td>\n",
       "      <td>8</td>\n",
       "      <td>0.000031</td>\n",
       "      <td>0.028898</td>\n",
       "      <td>NaN</td>\n",
       "      <td>NaN</td>\n",
       "      <td>NaN</td>\n",
       "    </tr>\n",
       "    <tr>\n",
       "      <th>2</th>\n",
       "      <td>2</td>\n",
       "      <td>12</td>\n",
       "      <td>0.000097</td>\n",
       "      <td>0.006143</td>\n",
       "      <td>NaN</td>\n",
       "      <td>NaN</td>\n",
       "      <td>NaN</td>\n",
       "    </tr>\n",
       "    <tr>\n",
       "      <th>3</th>\n",
       "      <td>3</td>\n",
       "      <td>7</td>\n",
       "      <td>0.000100</td>\n",
       "      <td>0.011477</td>\n",
       "      <td>NaN</td>\n",
       "      <td>NaN</td>\n",
       "      <td>NaN</td>\n",
       "    </tr>\n",
       "  </tbody>\n",
       "</table>\n",
       "</div>"
      ],
      "text/plain": [
       "  Label  SCR_Peaks_N  SCR_Peaks_Amplitude_Mean  EDA_Tonic_SD  EDA_Sympathetic  \\\n",
       "1     1            8                  0.000031      0.028898              NaN   \n",
       "2     2           12                  0.000097      0.006143              NaN   \n",
       "3     3            7                  0.000100      0.011477              NaN   \n",
       "\n",
       "   EDA_SympatheticN  EDA_Autocorrelation  \n",
       "1               NaN                  NaN  \n",
       "2               NaN                  NaN  \n",
       "3               NaN                  NaN  "
      ]
     },
     "execution_count": 27,
     "metadata": {},
     "output_type": "execute_result"
    }
   ],
   "source": [
    "nk.eda_intervalrelated(epochs, sampling_rate=100)"
   ]
  },
  {
   "cell_type": "code",
   "execution_count": null,
   "metadata": {},
   "outputs": [],
   "source": []
  }
 ],
 "metadata": {
  "kernelspec": {
   "display_name": "Python 3",
   "language": "python",
   "name": "python3"
  },
  "language_info": {
   "codemirror_mode": {
    "name": "ipython",
    "version": 3
   },
   "file_extension": ".py",
   "mimetype": "text/x-python",
   "name": "python",
   "nbconvert_exporter": "python",
   "pygments_lexer": "ipython3",
   "version": "3.8.9"
  },
  "orig_nbformat": 4,
  "vscode": {
   "interpreter": {
    "hash": "31f2aee4e71d21fbe5cf8b01ff0e069b9275f58929596ceb00d14d90e3e16cd6"
   }
  }
 },
 "nbformat": 4,
 "nbformat_minor": 2
}
